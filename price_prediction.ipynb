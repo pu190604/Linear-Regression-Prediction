{
 "cells": [
  {
   "cell_type": "code",
   "execution_count": 137,
   "metadata": {},
   "outputs": [],
   "source": [
    "# 导入工具包 numpy pandas用于数据处理  \n",
    "import numpy as np\n",
    "import pandas as pd"
   ]
  },
  {
   "cell_type": "code",
   "execution_count": 138,
   "metadata": {},
   "outputs": [
    {
     "data": {
      "text/html": [
       "<div>\n",
       "<style scoped>\n",
       "    .dataframe tbody tr th:only-of-type {\n",
       "        vertical-align: middle;\n",
       "    }\n",
       "\n",
       "    .dataframe tbody tr th {\n",
       "        vertical-align: top;\n",
       "    }\n",
       "\n",
       "    .dataframe thead th {\n",
       "        text-align: right;\n",
       "    }\n",
       "</style>\n",
       "<table border=\"1\" class=\"dataframe\">\n",
       "  <thead>\n",
       "    <tr style=\"text-align: right;\">\n",
       "      <th></th>\n",
       "      <th>area</th>\n",
       "      <th>subway</th>\n",
       "      <th>district</th>\n",
       "      <th>price</th>\n",
       "    </tr>\n",
       "  </thead>\n",
       "  <tbody>\n",
       "    <tr>\n",
       "      <th>5983</th>\n",
       "      <td>44.20</td>\n",
       "      <td>1</td>\n",
       "      <td>Xicheng</td>\n",
       "      <td>6000</td>\n",
       "    </tr>\n",
       "    <tr>\n",
       "      <th>5984</th>\n",
       "      <td>94.48</td>\n",
       "      <td>1</td>\n",
       "      <td>Xicheng</td>\n",
       "      <td>13000</td>\n",
       "    </tr>\n",
       "    <tr>\n",
       "      <th>5985</th>\n",
       "      <td>35.00</td>\n",
       "      <td>1</td>\n",
       "      <td>Xicheng</td>\n",
       "      <td>5600</td>\n",
       "    </tr>\n",
       "    <tr>\n",
       "      <th>5986</th>\n",
       "      <td>51.87</td>\n",
       "      <td>1</td>\n",
       "      <td>Xicheng</td>\n",
       "      <td>7000</td>\n",
       "    </tr>\n",
       "    <tr>\n",
       "      <th>5987</th>\n",
       "      <td>85.27</td>\n",
       "      <td>1</td>\n",
       "      <td>Xicheng</td>\n",
       "      <td>8800</td>\n",
       "    </tr>\n",
       "  </tbody>\n",
       "</table>\n",
       "</div>"
      ],
      "text/plain": [
       "       area  subway district  price\n",
       "5983  44.20       1  Xicheng   6000\n",
       "5984  94.48       1  Xicheng  13000\n",
       "5985  35.00       1  Xicheng   5600\n",
       "5986  51.87       1  Xicheng   7000\n",
       "5987  85.27       1  Xicheng   8800"
      ]
     },
     "execution_count": 138,
     "metadata": {},
     "output_type": "execute_result"
    }
   ],
   "source": [
    "#读取数据，并删除第一列\n",
    "df = pd.read_excel('price.xlsx')\n",
    "df=df.iloc[:,1:]\n",
    "df.tail()"
   ]
  },
  {
   "cell_type": "code",
   "execution_count": 139,
   "metadata": {},
   "outputs": [
    {
     "data": {
      "text/html": [
       "<div>\n",
       "<style scoped>\n",
       "    .dataframe tbody tr th:only-of-type {\n",
       "        vertical-align: middle;\n",
       "    }\n",
       "\n",
       "    .dataframe tbody tr th {\n",
       "        vertical-align: top;\n",
       "    }\n",
       "\n",
       "    .dataframe thead th {\n",
       "        text-align: right;\n",
       "    }\n",
       "</style>\n",
       "<table border=\"1\" class=\"dataframe\">\n",
       "  <thead>\n",
       "    <tr style=\"text-align: right;\">\n",
       "      <th></th>\n",
       "      <th>area</th>\n",
       "      <th>subway</th>\n",
       "      <th>district</th>\n",
       "      <th>price</th>\n",
       "    </tr>\n",
       "  </thead>\n",
       "  <tbody>\n",
       "    <tr>\n",
       "      <th>5983</th>\n",
       "      <td>44.20</td>\n",
       "      <td>1</td>\n",
       "      <td>Xicheng</td>\n",
       "      <td>6000</td>\n",
       "    </tr>\n",
       "    <tr>\n",
       "      <th>5984</th>\n",
       "      <td>94.48</td>\n",
       "      <td>1</td>\n",
       "      <td>Xicheng</td>\n",
       "      <td>13000</td>\n",
       "    </tr>\n",
       "    <tr>\n",
       "      <th>5985</th>\n",
       "      <td>35.00</td>\n",
       "      <td>1</td>\n",
       "      <td>Xicheng</td>\n",
       "      <td>5600</td>\n",
       "    </tr>\n",
       "    <tr>\n",
       "      <th>5986</th>\n",
       "      <td>51.87</td>\n",
       "      <td>1</td>\n",
       "      <td>Xicheng</td>\n",
       "      <td>7000</td>\n",
       "    </tr>\n",
       "    <tr>\n",
       "      <th>5987</th>\n",
       "      <td>85.27</td>\n",
       "      <td>1</td>\n",
       "      <td>Xicheng</td>\n",
       "      <td>8800</td>\n",
       "    </tr>\n",
       "  </tbody>\n",
       "</table>\n",
       "</div>"
      ],
      "text/plain": [
       "       area  subway district  price\n",
       "5983  44.20       1  Xicheng   6000\n",
       "5984  94.48       1  Xicheng  13000\n",
       "5985  35.00       1  Xicheng   5600\n",
       "5986  51.87       1  Xicheng   7000\n",
       "5987  85.27       1  Xicheng   8800"
      ]
     },
     "execution_count": 139,
     "metadata": {},
     "output_type": "execute_result"
    }
   ],
   "source": [
    "#删除数据的缺失值\n",
    "df1=df.dropna()\n",
    "df1.tail()"
   ]
  },
  {
   "cell_type": "code",
   "execution_count": 140,
   "metadata": {},
   "outputs": [
    {
     "data": {
      "text/html": [
       "<div>\n",
       "<style scoped>\n",
       "    .dataframe tbody tr th:only-of-type {\n",
       "        vertical-align: middle;\n",
       "    }\n",
       "\n",
       "    .dataframe tbody tr th {\n",
       "        vertical-align: top;\n",
       "    }\n",
       "\n",
       "    .dataframe thead th {\n",
       "        text-align: right;\n",
       "    }\n",
       "</style>\n",
       "<table border=\"1\" class=\"dataframe\">\n",
       "  <thead>\n",
       "    <tr style=\"text-align: right;\">\n",
       "      <th></th>\n",
       "      <th>area</th>\n",
       "      <th>subway</th>\n",
       "      <th>price</th>\n",
       "    </tr>\n",
       "  </thead>\n",
       "  <tbody>\n",
       "    <tr>\n",
       "      <th>count</th>\n",
       "      <td>5988.000000</td>\n",
       "      <td>5988.000000</td>\n",
       "      <td>5.988000e+03</td>\n",
       "    </tr>\n",
       "    <tr>\n",
       "      <th>mean</th>\n",
       "      <td>56.221675</td>\n",
       "      <td>0.280728</td>\n",
       "      <td>7.460704e+03</td>\n",
       "    </tr>\n",
       "    <tr>\n",
       "      <th>std</th>\n",
       "      <td>113.873993</td>\n",
       "      <td>0.449392</td>\n",
       "      <td>2.959955e+04</td>\n",
       "    </tr>\n",
       "    <tr>\n",
       "      <th>min</th>\n",
       "      <td>6.000000</td>\n",
       "      <td>0.000000</td>\n",
       "      <td>1.000000e+03</td>\n",
       "    </tr>\n",
       "    <tr>\n",
       "      <th>25%</th>\n",
       "      <td>20.000000</td>\n",
       "      <td>0.000000</td>\n",
       "      <td>3.900000e+03</td>\n",
       "    </tr>\n",
       "    <tr>\n",
       "      <th>50%</th>\n",
       "      <td>53.000000</td>\n",
       "      <td>0.000000</td>\n",
       "      <td>6.200000e+03</td>\n",
       "    </tr>\n",
       "    <tr>\n",
       "      <th>75%</th>\n",
       "      <td>68.000000</td>\n",
       "      <td>1.000000</td>\n",
       "      <td>7.800000e+03</td>\n",
       "    </tr>\n",
       "    <tr>\n",
       "      <th>max</th>\n",
       "      <td>8216.500000</td>\n",
       "      <td>1.000000</td>\n",
       "      <td>2.218455e+06</td>\n",
       "    </tr>\n",
       "  </tbody>\n",
       "</table>\n",
       "</div>"
      ],
      "text/plain": [
       "              area       subway         price\n",
       "count  5988.000000  5988.000000  5.988000e+03\n",
       "mean     56.221675     0.280728  7.460704e+03\n",
       "std     113.873993     0.449392  2.959955e+04\n",
       "min       6.000000     0.000000  1.000000e+03\n",
       "25%      20.000000     0.000000  3.900000e+03\n",
       "50%      53.000000     0.000000  6.200000e+03\n",
       "75%      68.000000     1.000000  7.800000e+03\n",
       "max    8216.500000     1.000000  2.218455e+06"
      ]
     },
     "execution_count": 140,
     "metadata": {},
     "output_type": "execute_result"
    }
   ],
   "source": [
    "#描述一下数据的统计信息，可以看到max部分为一个异常值，可以选择删除掉。但因为其合理性，在这里我们保留。\n",
    "df1.describe()"
   ]
  },
  {
   "cell_type": "code",
   "execution_count": 141,
   "metadata": {},
   "outputs": [
    {
     "data": {
      "text/plain": [
       "Index(['area', 'subway', 'price', 'district_Chaoyang', 'district_Dongcheng',\n",
       "       'district_Haidian', 'district_Xicheng'],\n",
       "      dtype='object')"
      ]
     },
     "execution_count": 141,
     "metadata": {},
     "output_type": "execute_result"
    }
   ],
   "source": [
    "#进行one-hot编码\n",
    "y=df1['price']\n",
    "df2=pd.get_dummies(df1)\n",
    "df2.columns"
   ]
  },
  {
   "cell_type": "code",
   "execution_count": 142,
   "metadata": {},
   "outputs": [
    {
     "data": {
      "text/html": [
       "<div>\n",
       "<style scoped>\n",
       "    .dataframe tbody tr th:only-of-type {\n",
       "        vertical-align: middle;\n",
       "    }\n",
       "\n",
       "    .dataframe tbody tr th {\n",
       "        vertical-align: top;\n",
       "    }\n",
       "\n",
       "    .dataframe thead th {\n",
       "        text-align: right;\n",
       "    }\n",
       "</style>\n",
       "<table border=\"1\" class=\"dataframe\">\n",
       "  <thead>\n",
       "    <tr style=\"text-align: right;\">\n",
       "      <th></th>\n",
       "      <th>area</th>\n",
       "      <th>subway</th>\n",
       "      <th>price</th>\n",
       "      <th>district_Chaoyang</th>\n",
       "      <th>district_Dongcheng</th>\n",
       "      <th>district_Haidian</th>\n",
       "      <th>district_Xicheng</th>\n",
       "    </tr>\n",
       "  </thead>\n",
       "  <tbody>\n",
       "    <tr>\n",
       "      <th>5983</th>\n",
       "      <td>0.004653</td>\n",
       "      <td>1.0</td>\n",
       "      <td>0.002255</td>\n",
       "      <td>0.0</td>\n",
       "      <td>0.0</td>\n",
       "      <td>0.0</td>\n",
       "      <td>1.0</td>\n",
       "    </tr>\n",
       "    <tr>\n",
       "      <th>5984</th>\n",
       "      <td>0.010776</td>\n",
       "      <td>1.0</td>\n",
       "      <td>0.005412</td>\n",
       "      <td>0.0</td>\n",
       "      <td>0.0</td>\n",
       "      <td>0.0</td>\n",
       "      <td>1.0</td>\n",
       "    </tr>\n",
       "    <tr>\n",
       "      <th>5985</th>\n",
       "      <td>0.003532</td>\n",
       "      <td>1.0</td>\n",
       "      <td>0.002074</td>\n",
       "      <td>0.0</td>\n",
       "      <td>0.0</td>\n",
       "      <td>0.0</td>\n",
       "      <td>1.0</td>\n",
       "    </tr>\n",
       "    <tr>\n",
       "      <th>5986</th>\n",
       "      <td>0.005587</td>\n",
       "      <td>1.0</td>\n",
       "      <td>0.002706</td>\n",
       "      <td>0.0</td>\n",
       "      <td>0.0</td>\n",
       "      <td>0.0</td>\n",
       "      <td>1.0</td>\n",
       "    </tr>\n",
       "    <tr>\n",
       "      <th>5987</th>\n",
       "      <td>0.009655</td>\n",
       "      <td>1.0</td>\n",
       "      <td>0.003518</td>\n",
       "      <td>0.0</td>\n",
       "      <td>0.0</td>\n",
       "      <td>0.0</td>\n",
       "      <td>1.0</td>\n",
       "    </tr>\n",
       "  </tbody>\n",
       "</table>\n",
       "</div>"
      ],
      "text/plain": [
       "          area  subway     price  district_Chaoyang  district_Dongcheng  \\\n",
       "5983  0.004653     1.0  0.002255                0.0                 0.0   \n",
       "5984  0.010776     1.0  0.005412                0.0                 0.0   \n",
       "5985  0.003532     1.0  0.002074                0.0                 0.0   \n",
       "5986  0.005587     1.0  0.002706                0.0                 0.0   \n",
       "5987  0.009655     1.0  0.003518                0.0                 0.0   \n",
       "\n",
       "      district_Haidian  district_Xicheng  \n",
       "5983               0.0               1.0  \n",
       "5984               0.0               1.0  \n",
       "5985               0.0               1.0  \n",
       "5986               0.0               1.0  \n",
       "5987               0.0               1.0  "
      ]
     },
     "execution_count": 142,
     "metadata": {},
     "output_type": "execute_result"
    }
   ],
   "source": [
    "#进行数据预处理 归一化\n",
    "from sklearn import preprocessing\n",
    "min_max_scaler = preprocessing.MinMaxScaler()\n",
    "df3=min_max_scaler.fit_transform(df2)\n",
    "df4 = pd.DataFrame(df3, columns=df2.columns)\n",
    "df4.tail()"
   ]
  },
  {
   "cell_type": "code",
   "execution_count": 143,
   "metadata": {},
   "outputs": [
    {
     "data": {
      "text/plain": [
       "((5988, 6), (5988,))"
      ]
     },
     "execution_count": 143,
     "metadata": {},
     "output_type": "execute_result"
    }
   ],
   "source": [
    "#进行逆归一化的准备，为最后一步做准备。以及展示下数据大小\n",
    "yy=df2['price']\n",
    "del df2['price']\n",
    "y=df4['price']\n",
    "x=df4.drop(columns = ['price'])\n",
    "x.shape,y.shape"
   ]
  },
  {
   "cell_type": "code",
   "execution_count": 144,
   "metadata": {},
   "outputs": [],
   "source": [
    "#划分训练集测试集，取10%的测试集。\n",
    "from sklearn.model_selection import train_test_split\n",
    "train_data,test_data, train_labels, test_labels = train_test_split(x,\n",
    "                                                   y,\n",
    "                                                   test_size = 0.1,\n",
    "                                                   random_state = 0)"
   ]
  },
  {
   "cell_type": "code",
   "execution_count": 145,
   "metadata": {},
   "outputs": [
    {
     "data": {
      "text/plain": [
       "LinearRegression(copy_X=True, fit_intercept=True, n_jobs=None, normalize=False)"
      ]
     },
     "execution_count": 145,
     "metadata": {},
     "output_type": "execute_result"
    }
   ],
   "source": [
    "#导入线性回归模型 拟合模型\n",
    "from sklearn.linear_model import LinearRegression\n",
    "model=LinearRegression()\n",
    "model.fit(train_data, train_labels)"
   ]
  },
  {
   "cell_type": "code",
   "execution_count": 146,
   "metadata": {},
   "outputs": [],
   "source": [
    "#使用模型在测试集和训练集上预测。\n",
    "y_train_predict=model.predict(train_data)\n",
    "y_train_predict=y_train_predict\n",
    "y_test_predict=model.predict(test_data)\n",
    "y_test_predict=y_test_predict"
   ]
  },
  {
   "cell_type": "code",
   "execution_count": 147,
   "metadata": {},
   "outputs": [
    {
     "name": "stdout",
     "output_type": "stream",
     "text": [
      "0.0019906083087438994\n",
      "7.79402211238583e-06\n"
     ]
    }
   ],
   "source": [
    "#训练集上的MAE和MSE\n",
    "from sklearn.metrics import mean_absolute_error\n",
    "from sklearn.metrics import mean_squared_error\n",
    "print(mean_absolute_error(y_train_predict, train_labels))\n",
    "print(mean_squared_error(y_train_predict, train_labels) )"
   ]
  },
  {
   "cell_type": "code",
   "execution_count": 148,
   "metadata": {},
   "outputs": [
    {
     "name": "stdout",
     "output_type": "stream",
     "text": [
      "0.0020494569955495914\n",
      "9.451150097330596e-06\n"
     ]
    }
   ],
   "source": [
    "#测试集上的MAE和MSE\n",
    "print(mean_absolute_error(y_test_predict, test_labels))\n",
    "print(mean_squared_error(y_test_predict, test_labels) )"
   ]
  },
  {
   "cell_type": "code",
   "execution_count": 149,
   "metadata": {},
   "outputs": [
    {
     "data": {
      "image/png": "[encoded data removed]",
      "text/plain": [
       "<Figure size 432x288 with 1 Axes>"
      ]
     },
     "metadata": {
      "needs_background": "light"
     },
     "output_type": "display_data"
    }
   ],
   "source": [
    "#在训练集上的预测效果\n",
    "import matplotlib.pyplot as plt\n",
    "plt.scatter(train_labels, y_train_predict)\n",
    "plt.xlabel('True Values')\n",
    "plt.ylabel('Predictions')\n",
    "plt.axis('equal')\n",
    "plt.xlim(plt.xlim())\n",
    "plt.ylim(plt.ylim())\n",
    "_ = plt.plot([-100, 100], [-100, 100])"
   ]
  },
  {
   "cell_type": "code",
   "execution_count": 150,
   "metadata": {},
   "outputs": [
    {
     "data": {
      "image/png": "[encoded data removed]",
      "text/plain": [
       "<Figure size 432x288 with 1 Axes>"
      ]
     },
     "metadata": {
      "needs_background": "light"
     },
     "output_type": "display_data"
    }
   ],
   "source": [
    "#在测试集上的预测效果\n",
    "plt.scatter(test_labels, y_test_predict)\n",
    "plt.xlabel('True Values')\n",
    "plt.ylabel('Predictions')\n",
    "plt.axis('equal')\n",
    "plt.xlim(plt.xlim())\n",
    "plt.ylim(plt.ylim())\n",
    "_ = plt.plot([-100, 100], [-100, 100])"
   ]
  },
  {
   "cell_type": "code",
   "execution_count": 153,
   "metadata": {},
   "outputs": [
    {
     "name": "stdout",
     "output_type": "stream",
     "text": [
      "房屋面积：80\n",
      "是否临近地铁:1\n",
      "是否在朝阳:1\n",
      "是否在东城:0\n",
      "是否在海淀:0\n",
      "是否在西城:0\n",
      "预测价格为： 9837\n"
     ]
    }
   ],
   "source": [
    "#进行输入和预测\n",
    "area = int(input(\"房屋面积：\"))\n",
    "subway = int(input(\"是否临近地铁:\"))\n",
    "district1=int(input(\"是否在朝阳:\"))\n",
    "district2=int(input(\"是否在东城:\"))\n",
    "district3=int(input(\"是否在海淀:\"))\n",
    "district4=int(input(\"是否在西城:\"))\n",
    "data = {\n",
    "    'area':[area],\n",
    "    'subway':[subway],\n",
    "    'district_Chaoyang':[district1],\n",
    "    'district_Dongcheng':[district2],\n",
    "    'district_Haidian':[district3],   \n",
    "    'district_Xicheng':[district4]    \n",
    "}\n",
    "newdata=pd.DataFrame(data)\n",
    "newdata=(newdata-df2.min())/(df2.max()-df2.min())\n",
    "prediction=int(model.predict(newdata)*(yy.max()-yy.min())+yy.min())\n",
    "print('预测价格为：',prediction)"
   ]
  },
  {
   "cell_type": "code",
   "execution_count": null,
   "metadata": {},
   "outputs": [],
   "source": []
  },
  {
   "cell_type": "code",
   "execution_count": null,
   "metadata": {},
   "outputs": [],
   "source": []
  }
 ],
 "metadata": {
  "kernelspec": {
   "display_name": "Python 3",
   "language": "python",
   "name": "python3"
  },
  "language_info": {
   "codemirror_mode": {
    "name": "ipython",
    "version": 3
   },
   "file_extension": ".py",
   "mimetype": "text/x-python",
   "name": "python",
   "nbconvert_exporter": "python",
   "pygments_lexer": "ipython3",
   "version": "3.7.3"
  }
 },
 "nbformat": 4,
 "nbformat_minor": 2
}
